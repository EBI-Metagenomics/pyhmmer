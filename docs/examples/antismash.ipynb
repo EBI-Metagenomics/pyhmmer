{
 "cells": [
  {
   "cell_type": "markdown",
   "metadata": {},
   "source": [
    "# Active Site Analysis"
   ]
  },
  {
   "cell_type": "markdown",
   "metadata": {},
   "source": [
    "This example is adapted from the method used by [AntiSMASH](https://antismash.secondarymetabolites.org/#!/about) to annotate biosynthetic gene clusters. AntiSMASH uses profile HMMs to annotate enzymatic domains in protein sequences. By matching the amino acids in the alignment, it can then predict the product specificity of the enzyme. \n",
    "\n",
    "In this notebook, we show how to reproduce this kind of analysis, using a PKSI Acyltransferase domain built by the AntiSMASH authors (the HMM in HMMER2 format can be downloaded from [their git repository](https://github.com/antismash/antismash/blob/master/antismash/modules/active_site_finder/data/PKSI-AT.hmm2)).\n",
    "\n",
    "<div class=\"alert alert-info\">\n",
    "\n",
    "References\n",
    "    \n",
    "* [Del Vecchio, F., H. Petkovic, S. G. Kendrew, L. Low, B. Wilkinson, R. Lill, J. Cortes, B. A. Rudd, J. Staunton, and P. F. Leadlay. 2003. *Active-site residue, domain and module swaps in modular polyketide synthases.* J Ind. Microbiol Biotechnol 30:489-494.](https://pubmed.ncbi.nlm.nih.gov/12811585/)\n",
    "* [Medema MH, Blin K, Cimermancic P, de Jager V, Zakrzewski P, Fischbach MA,\n",
    "Weber T, Takano E, Breitling R. *antiSMASH: rapid identification, annotation and\n",
    "analysis of secondary metabolite biosynthesis gene clusters in bacterial and\n",
    "fungal genome sequences.* Nucleic Acids Res. 2011 Jul:W339-46](https://pubmed.ncbi.nlm.nih.gov/21672958/).\n",
    "    \n",
    "</div>"
   ]
  },
  {
   "cell_type": "code",
   "execution_count": null,
   "metadata": {},
   "outputs": [],
   "source": [
    "import pyhmmer\n",
    "pyhmmer.__version__"
   ]
  },
  {
   "cell_type": "markdown",
   "metadata": {},
   "source": [
    "## Loading the HMM"
   ]
  },
  {
   "cell_type": "markdown",
   "metadata": {},
   "source": [
    "Loading a HMMER profile is done with the `pyhmmer.plan7.HMMFile` class, which provides an iterator over the HMMs in the file. Since we only use a single HMM, we can simply use `next` to get the first (and only) `pyhmmer.plan7.HMM` in the file. "
   ]
  },
  {
   "cell_type": "code",
   "execution_count": null,
   "metadata": {},
   "outputs": [],
   "source": [
    "with pyhmmer.plan7.HMMFile(\"data/hmm/PKSI-AT.hmm2\") as hmm_file:\n",
    "    hmm = next(hmm_file)"
   ]
  },
  {
   "cell_type": "markdown",
   "metadata": {},
   "source": [
    "## Building digitized sequences"
   ]
  },
  {
   "cell_type": "markdown",
   "metadata": {},
   "source": [
    "Easel provides the code necessary to load sequences from files in common biological formats, such as GenBank or FASTA. These utilities are wrapped by the `pyhmmer.easel.SequenceFile`, which provides an iterator over the sequences in the file. Note that `SequenceFile` tries to guess the format by default, but you can force a particular format with the `format` keyword argument."
   ]
  },
  {
   "cell_type": "code",
   "execution_count": null,
   "metadata": {},
   "outputs": [],
   "source": [
    "with pyhmmer.easel.SequenceFile(\"data/seqs/PKSI.faa\") as seq_file:\n",
    "    sequences = [ seq.digitize(hmm.alphabet) for seq in seq_file ]"
   ]
  },
  {
   "cell_type": "markdown",
   "metadata": {},
   "source": [
    "<div class=\"alert alert-info\">\n",
    "\n",
    "Note\n",
    "\n",
    "The C interface of Easel allows storing a sequence in two different modes: in _text_ mode, where the sequence letters are represented as individual characters (e.g. \"A\" or \"Y\"), and _digital_ mode, where sequence letters are encoded as digits. To make Python programs clearer, and to allow static typecheck of the storage mode, we provide two separate classes, `TextSequence` and `DigitalSequence`, that represent a sequence store in either of these modes.\n",
    "\n",
    "</div>\n",
    "\n",
    "`SequenceFile` yields sequences in text mode, but HMMER expects sequences in digital mode, so we must digitize them. This requires the sequence alphabet to be known, but we can just use the `Alphabet` instance stored in the `alphabet` attribute of `hmm`.   "
   ]
  },
  {
   "cell_type": "markdown",
   "metadata": {},
   "source": [
    "## Running a search pipeline"
   ]
  },
  {
   "cell_type": "code",
   "execution_count": null,
   "metadata": {},
   "outputs": [],
   "source": [
    "pipeline = pyhmmer.plan7.Pipeline(hmm.alphabet)\n",
    "hits = pipeline.search(hmm, sequences)"
   ]
  },
  {
   "cell_type": "markdown",
   "metadata": {},
   "source": [
    "## Rendering the alignments"
   ]
  },
  {
   "cell_type": "markdown",
   "metadata": {},
   "source": [
    "`Domain` instances store all the required information to report results in their `alignment` attribute. We can show the alignment between a HMM and a sequence \n",
    "like `hmmsearch` would as follow (using the first domain of the first hit as an example):"
   ]
  },
  {
   "cell_type": "code",
   "execution_count": null,
   "metadata": {},
   "outputs": [],
   "source": [
    "ali = hits[0].domains[0].alignment\n",
    "\n",
    "print(\" \"*3, ali.target_name.decode())\n",
    "print(\"{:3}\".format(ali.hmm_from), ali.hmm_sequence, \"{:3}\".format(ali.hmm_to))\n",
    "print(\" \"*3, ali.identity_sequence)\n",
    "print(\"{:3}\".format(ali.target_from), ali.target_sequence, \"{:3}\".format(ali.target_to))\n",
    "print(\" \"*3, ali.hmm_name.decode())"
   ]
  },
  {
   "cell_type": "markdown",
   "metadata": {},
   "source": [
    "You may also want to see where the domains are located in the input sequence; using the [DNA feature viewer](https://edinburgh-genome-foundry.github.io/DnaFeaturesViewer/) developed by the [Edinburgh Genome Foundry](https://edinburgh-genome-foundry.github.io/), we can build a summary graph:"
   ]
  },
  {
   "cell_type": "code",
   "execution_count": null,
   "metadata": {},
   "outputs": [],
   "source": [
    "from dna_features_viewer import GraphicFeature, GraphicRecord\n",
    "import matplotlib.pyplot as plt\n",
    "\n",
    "# create an index so we can retrieve a Sequence from its name\n",
    "seq_index = { seq.name:seq for seq in sequences }\n",
    "\n",
    "fig, axes = plt.subplots(nrows=len(hits), figsize=(16, 6), sharex=True)\n",
    "for ax, hit in zip(axes, hits):\n",
    "    # add one feature per domain\n",
    "    features = [\n",
    "        GraphicFeature(start=d.alignment.target_from-1, end=d.alignment.target_to)\n",
    "        for d in hit.domains\n",
    "    ]\n",
    "    length = len(seq_index[hit.name])\n",
    "    desc = seq_index[hit.name].description.decode()\n",
    "    \n",
    "    # render the feature records\n",
    "    record = GraphicRecord(sequence_length=length, features=features)\n",
    "    record.plot(ax=ax)\n",
    "    ax.set_title(desc)\n",
    "    \n",
    "# make sure everything fits in the final graph!\n",
    "fig.tight_layout()"
   ]
  },
  {
   "cell_type": "markdown",
   "metadata": {},
   "source": [
    "## Checking individual positions for catalytic activity"
   ]
  },
  {
   "cell_type": "code",
   "execution_count": null,
   "metadata": {},
   "outputs": [],
   "source": [
    "def iter_target_match(alignment):\n",
    "    position = alignment.hmm_from\n",
    "    for hmm_letter, amino_acid in zip(alignment.hmm_sequence, alignment.target_sequence):\n",
    "        if hmm_letter != \".\":\n",
    "            yield position, amino_acid      \n",
    "            position += 1"
   ]
  },
  {
   "cell_type": "code",
   "execution_count": null,
   "metadata": {},
   "outputs": [],
   "source": [
    "POSITIONS   = [ 93,  94,  95, 120, 196, 198, 199, 227, 244, 245]\n",
    "EXPECTED    = ['G', 'H', 'S', 'R', 'A', 'H', 'S', 'S', 'Y', 'W']\n",
    "SPECIFICITY = [195, 197]\n",
    "\n",
    "for hit in hits:\n",
    "    print(\"\\nIn sequence {!r}:\".format(hit.name.decode()))\n",
    "    for domain in hit.domains:       \n",
    "        aligned = dict(iter_target_match(domain.alignment))\n",
    "        \n",
    "        print(\"- Found PKSI-AT domain at positions {:4} to {:4}\".format(domain.ali_from, domain.ali_to))        \n",
    "        try:\n",
    "            signature = [ aligned[x] for x in POSITIONS ]\n",
    "            spec = [ aligned[x] for x in SPECIFICITY ] \n",
    "        except KeyError:\n",
    "            print(\"  -> Domain likely too short\")\n",
    "            continue\n",
    "        if signature != EXPECTED:\n",
    "            print(\"  -> Substrate specificity unknown\")\n",
    "        elif spec == [\"H\", \"F\"]:\n",
    "            print(\"  -> Malonyl-CoA specific\")\n",
    "        elif spec == [\"Y\", \"S\"]:\n",
    "            print(\"  -> Methylmalonyl-CoA specific\")\n",
    "        else:\n",
    "            print(\"  -> Neither malonyl-CoA nor methylmalonyl-CoA specific\")\n"
   ]
  }
 ],
 "metadata": {
  "kernelspec": {
   "display_name": "Python 3",
   "language": "python",
   "name": "python3"
  },
  "language_info": {
   "codemirror_mode": {
    "name": "ipython",
    "version": 3
   },
   "file_extension": ".py",
   "mimetype": "text/x-python",
   "name": "python",
   "nbconvert_exporter": "python",
   "pygments_lexer": "ipython3",
   "version": "3.8.6"
  }
 },
 "nbformat": 4,
 "nbformat_minor": 4
}
