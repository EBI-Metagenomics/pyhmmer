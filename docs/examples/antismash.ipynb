{
 "cells": [
  {
   "cell_type": "markdown",
   "metadata": {},
   "source": [
    "# Active Site Analysis"
   ]
  },
  {
   "cell_type": "markdown",
   "metadata": {},
   "source": [
    "This example is adapted from the method used by [AntiSMASH](https://antismash.secondarymetabolites.org/#!/about) to annotate biosynthetic gene clusters. AntiSMASH uses profile HMMs to annotate enzymatic domains in protein sequences. By matching the amino acids in the alignment, it can then predict the product specificity of the enzyme. \n",
    "\n",
    "In this notebook, we show how to reproduce this kind of analysis, using a PKSI Acyltransferase domain built by the AntiSMASH authors (the HMM in HMMER2 format can be downloaded from [their git repository](https://github.com/antismash/antismash/blob/master/antismash/modules/active_site_finder/data/PKSI-AT.hmm2)). For more information about this profile HMM, you can have a look at the reference paper:\n",
    "\n",
    "> [Del Vecchio, F., H. Petkovic, S. G. Kendrew, L. Low, B. Wilkinson, R. Lill, J. Cortes, B. A. Rudd, J. Staunton, and P. F. Leadlay. 2003. Active-site residue, domain and module swaps in modular polyketide synthases. J Ind. Microbiol Biotechnol 30:489-494.](https://pubmed.ncbi.nlm.nih.gov/12811585/)"
   ]
  },
  {
   "cell_type": "code",
   "execution_count": 1,
   "metadata": {},
   "outputs": [
    {
     "data": {
      "text/plain": [
       "'0.1.0-a4'"
      ]
     },
     "execution_count": 1,
     "metadata": {},
     "output_type": "execute_result"
    }
   ],
   "source": [
    "import pyhmmer\n",
    "pyhmmer.__version__"
   ]
  },
  {
   "cell_type": "markdown",
   "metadata": {},
   "source": [
    "## Loading the HMM"
   ]
  },
  {
   "cell_type": "markdown",
   "metadata": {},
   "source": [
    "Loading a HMMER profile is done with the `pyhmmer.plan7.HMMFile` class, which provides an iterator over the HMMs in the file. Since we only use a single HMM, we can simply use `next` to get the first (and only) `pyhmmer.plan7.HMM` in the file. "
   ]
  },
  {
   "cell_type": "code",
   "execution_count": 2,
   "metadata": {},
   "outputs": [],
   "source": [
    "with pyhmmer.plan7.HMMFile(\"data/hmm/PKSI-AT.hmm2\") as hmm_file:\n",
    "    hmm = next(hmm_file)"
   ]
  },
  {
   "cell_type": "markdown",
   "metadata": {},
   "source": [
    "## Building digitized sequences"
   ]
  },
  {
   "cell_type": "markdown",
   "metadata": {},
   "source": [
    "Easel provides the code necessary to load sequences from files in common biological formats, such as GenBank or FASTA. These utilities are wrapped by the `pyhmmer.easel.SequenceFile`, which provides an iterator over the sequences in the file. Note that `SequenceFile` tries to guess the format by default, but you can force a particular format with the `format` keyword argument."
   ]
  },
  {
   "cell_type": "code",
   "execution_count": 3,
   "metadata": {},
   "outputs": [],
   "source": [
    "with pyhmmer.easel.SequenceFile(\"data/seqs/PKSI.faa\") as seq_file:\n",
    "    sequences = [ seq.digitize(hmm.alphabet) for seq in seq_file ]"
   ]
  },
  {
   "cell_type": "markdown",
   "metadata": {},
   "source": [
    "<div class=\"alert alert-info\">\n",
    "\n",
    "Note\n",
    "\n",
    "The C interface of Easel allows storing a sequence in two different modes: in _text_ mode, where the sequence letters are represented as individual characters (e.g. \"A\" or \"Y\"), and _digital_ mode, where sequence letters are encoded into digits. To make Python programs clearer, and to allow static typecheck of the storage mode, we provide two separate classes, `TextSequence` and `DigitalSequence`, that represent a sequence store in either of these modes.\n",
    "\n",
    "</div>\n",
    "\n",
    "`SequenceFile` yields sequences in text mode, but HMMER expects sequences in digital mode, so we must digitize them. This requires the sequence alphabet to be known, but we can just use the `Alphabet` instance stored in the `alphabet` attribute of `hmm`.   "
   ]
  },
  {
   "cell_type": "markdown",
   "metadata": {},
   "source": [
    "## Running a search pipeline"
   ]
  },
  {
   "cell_type": "code",
   "execution_count": 4,
   "metadata": {},
   "outputs": [],
   "source": [
    "pipeline = pyhmmer.plan7.Pipeline(hmm.alphabet)\n",
    "hits = pipeline.search(hmm, sequences)"
   ]
  },
  {
   "cell_type": "markdown",
   "metadata": {},
   "source": [
    "## Rendering the alignments"
   ]
  },
  {
   "cell_type": "code",
   "execution_count": 5,
   "metadata": {},
   "outputs": [
    {
     "name": "stdout",
     "output_type": "stream",
     "text": [
      "    sp|Q9ZGI5|PIKA1_STRVZ\n",
      "  1 lFpGQGsQyaGMGreLYetePVFRqalDrCaaaLrphLgfsLlevLfgdegqeeaaaslLdqTryaQPALFAvEYALArLWrSWGvePdAVlGHSvGEyvAAcvAGVlSLEDALrLVaaRGrLMqa.lpggGaMlaVraseeevrelLapyggrlsiAAvNGPrsvVvSGdaeaieallaeLeaqGirarrLkVsHAFHSplMepmldeleevlagitpraPriPliSnvTGewltgeealdpaYWarhlRePVrFadgletLlaelGctvFlEvGPhpvLtalarrtlgesagtngadaawlaSLrrg 308\n",
      "    +FpGQG+Q+aGMG eL++++ VF++a+ +C+aaL+p++++sL +v ++ +g     a+ L++++++QP+ FAv+++LAr W+  Gv+P+AV+GHS+GE++AA+vAG+lSL+DA+r+V  R++ ++a l+g+G+Ml+ ++se+ v e+La+++ +ls+AAvNGP ++VvSGd+ +ie+l++++ea G+rar ++V++A+HS+++e +  el+evlag++p+aPr+P++S++ G+w+t+  +ld++YW+r+lR+ V Fa+++etL+ + G+t+F+Ev++hpvLt ++  t            + la+Lrr+\n",
      "635 VFPGQGTQWAGMGAELLDSSAVFAAAMAECEAALSPYVDWSLEAVVRQAPG-----APTLERVDVVQPVTFAVMVSLARVWQHHGVTPQAVVGHSQGEIAAAYVAGALSLDDAARVVTLRSKSIAAhLAGKGGMLSLALSEDAVLERLAGFD-GLSVAAVNGPTATVVSGDPVQIEELARACEADGVRARVIPVDYASHSRQVEIIESELAEVLAGLSPQAPRVPFFSTLEGAWITE-PVLDGGYWYRNLRHRVGFAPAVETLATDEGFTHFVEVSAHPVLTMALPGTV-----------TGLATLRRD 925\n",
      "    PKS-AT.tcoffee\n",
      "\n",
      "    sp|Q9ZGI5|PIKA1_STRVZ\n",
      "  1 lFpGQGsQyaGMGreLYetePVFRqalDrCaaaLrphLgfsLlevLfgdegqeeaaaslLdqTryaQPALFAvEYALArLWrSWGvePdAVlGHSvGEyvAAcvAGVlSLEDALrLVaaRGrLMqa.lpggGaMlaVraseeevrelLapyggrlsiAAvNGPrsvVvSGdaeaieallaeLeaqGirarrLkVsHAFHSplMepmldeleevlagitpraPriPliSnvTGewltgeealdpaYWarhlRePVrFadgletLlaelGctvFlEvGPhpvLtal 283\n",
      "    +FpGQG+Q+aGMG eL++++ VF++a+ +C+aaL+p++++sL +v ++ +g     a+ L++++++QP+ FAv+++LAr W+  Gv+P+AV+GHS+GE++AA+vAG+l L+DA+r+V  R++ ++a l+g+G+Ml+ ++ e+ v e+L +++ +ls+AAvNGP ++VvSGd+ +ie+l+++++a G rar ++V++A+HS+++e +  el++vlag++p+aPr+P++S++ G+w+t+  +ld+ YW+r+lR+ V Fa+++etL+ + G+t+F+Ev++hpvLt  \n",
      "1651 VFPGQGTQWAGMGAELLDSSAVFAAAMAECEAALSPYVDWSLEAVVRQAPG-----APTLERVDVVQPVTFAVMVSLARVWQHHGVTPQAVVGHSQGEIAAAYVAGALPLDDAARVVTLRSKSIAAhLAGKGGMLSLALNEDAVLERLSDFD-GLSVAAVNGPTATVVSGDPVQIEELAQACKADGFRARIIPVDYASHSRQVEIIESELAQVLAGLSPQAPRVPFFSTLEGTWITE-PVLDGTYWYRNLRHRVGFAPAIETLAVDEGFTHFVEVSAHPVLTMT 1927\n",
      "    PKS-AT.tcoffee\n",
      "\n",
      "    sp|Q9ZGI5|PIKA1_STRVZ\n",
      "  1 lFpGQGsQyaGMGreLYetePVFRqalDrCaaaLrphLgfsLlevLfgdegqeeaaaslLdqTryaQPALFAvEYALArLWrSWGvePdAVlGHSvGEyvAAcvAGVlSLEDALrLVaaRGrLMqalpggGaMlaVraseeevrelLap...yggrlsiAAvNGPrsvVvSGdaeaieallaeLeaqGirarrLkVsHAFHSplMepmldeleevlagitpraPriPliSnvTGewltgeealdpaYWarhlRePVrFadgletLlaelGctvFlEvGPhpvLtalarrtlgesagtngada 299\n",
      "    lF+GQGsQ++G GreLY+  PVF++alD+ +a L+ hL+ +Ll+v+f+ eg  +a a+lLd+Try+Q ALFA+E+AL rL +SWG++P+A+lGHSvGE++AA+vAGV+SL DA+rLVaaRGrLMq lp gGaMlaV+a e+e+r +L+    y+grl++AAvNGP++ V+SGda+a  +++a  +  G r+r L VsHAFHS++M++mld +++vl+ +++r+P ++++SnvTG  + +++ +dp+YW+rh+R +VrF dg++ L+++ G++++lE GP  vLta+a++ l +++    ad+\n",
      "3181 LFTGQGSQRPGAGRELYDRHPVFARALDEICAHLDGHLELPLLDVMFAAEG--SAEAALLDETRYTQCALFALEVALFRLVESWGMRPAALLGHSVGEIAAAHVAGVFSLADAARLVAARGRLMQELPAGGAMLAVQAAEDEIRVWLETeerYAGRLDVAAVNGPEAAVLSGDADAAREAEAYWSGLGRRTRALRVSHAFHSAHMDGMLDGFRAVLETVEFRRPSLTVVSNVTGLAAGPDDLCDPEYWVRHVRGTVRFLDGVRVLRDL-GVRTCLELGPDGVLTAMAADGLADTP----ADS 3475\n",
      "    PKS-AT.tcoffee\n",
      "\n",
      "    sp|Q9ZGI2|PIKA4_STRVZ\n",
      "  1 lFpGQGsQyaGMGreLYetePVFRqalDrCaaaLrphLgfsLlevLfgdegqeeaaaslLdqTryaQPALFAvEYALArLWrSWGvePdAVlGHSvGEyvAAcvAGVlSLEDALrLVaaRGrLMqa.lpggGaMlaVraseeevrelLapyggrlsiAAvNGPrsvVvSGdaeaieallaeLeaqGirarrLkVsHAFHSplMepmldeleevlagitpraPriPliSnvTGewltgeealdpaYWarhlRePVrFadgletLlaelGctvFlEvGPhpvLt 281\n",
      "    +FpGQG+Q+aGMG eL++++P F++a+ +C+ aL+p++++sL +v ++ +     +a+ Ld+++++QP+ FAv+++LA+ W+  G++P AV+GHS+GE++AA+vAG+l+L+DA+r+V  R++ ++a l+g+G+M + ++see  r+++++  ++lsiAAvNGP ++VvSGd+ +i++l++++ea Girar ++V++A+HS+++e +  el+ vlag++p+ P++P++S++ G+w+t+  ald++YW+r+lR+ V Fa+++etL+ + G+t+F+Ev++hpvLt\n",
      "563 VFPGQGTQWAGMGAELLDSSPEFAAAMAECETALSPYVDWSLEAVVRQAP-----SAPTLDRVDVVQPVTFAVMVSLAKVWQHHGITPEAVIGHSQGEIAAAYVAGALTLDDAARVVTLRSKSIAAhLAGKGGMISLALSEEATRQRIENL-HGLSIAAVNGPTATVVSGDPTQIQELAQACEADGIRARIIPVDYASHSAHVETIENELADVLAGLSPQTPQVPFFSTLEGTWITE-PALDGGYWYRNLRHRVGFAPAVETLATDEGFTHFIEVSAHPVLT 837\n",
      "    PKS-AT.tcoffee\n",
      "\n",
      "    sp|A0A089QRB9|MSL3_MYCTU\n",
      "  1 lFpGQGsQyaGMGreLYetePVFRqalDrCaaaLrphLgfsLlevLfgdegqeeaaaslLdqTryaQPALFAvEYALArLWrSWGvePdAVlGHSvGEyvAAcvAGVlSLEDALrLVaaRGrLMqalpggGaMlaVraseeevrelLap.yggrlsiAAvNGPrsvVvSGdaeaieallaeLeaqGirarrLkVsHAFHSplMepmldeleevlagitpraPriPliSnvTGewltgeealdpaYWarhlRePVrFadgletLlaelGctvFlEvGPhpvLtalarrtlgesagtngadaawlaSLrrg 308\n",
      "    +F+GQGsQ++GMG eL+ +ePVF++++ + + + ++  gfs+ e + ++      + s +d+   +QP +FAv++ALA+ + S Gv+P A +GHS+GE +AA+vAG+lSL D+Lr++++R+rLM++ +g GaM++V+++ ++v   La    + + + +v +P s+Vv G  ++i  l+a+ e+q++ ar ++V++A+H+p+++p+ldel evla++ p aP+iP++S    ++ +    ++++YW+ +lR +VrFa++++++l + G++vF E  Php Lt ++++++   +     + a la +rrg\n",
      "540 VFSGQGSQWPGMGTELLVAEPVFAATVAAMEPVIARESGFSVTEAMSAPQ-----TVSGIDR---VQPTIFAVQVALAAALKSYGVRPGAIIGHSLGEAAAAVVAGALSLHDGLRVICRRSRLMSRIAGSGAMASVELPGQQVLSELAIrGISDVVLSVVASPTSTVVGGATQSIRDLVAAWEQQDVLAREVAVDVASHTPQVDPILDELLEVLAEVDPTAPEIPYYSATLWDPRER-PSFTGEYWVENLRYTVRFAAAVQAALKD-GYRVFGELAPHPLLTYAVEQNAASLD----MPIATLAAMRRG 834\n",
      "    PKS-AT.tcoffee\n",
      "\n",
      "    sp|Q9Y8A5|LOVB_ASPTE\n",
      "  1 lFpGQGsQyaGMGreLYetePVFR  24\n",
      "    +F+GQG+Q++GM + L e++P  R\n",
      "562 IFTGQGAQWPGMLKNLIEASPYVR 585\n",
      "    PKS-AT.tcoffee\n",
      "\n",
      "    sp|Q9Y8A5|LOVB_ASPTE\n",
      " 90 AVlGHSvGEyvAAcvAGVlSLEDALrLVaaRGrLMqalpg..gGaMlaVraseeevrelLap..yggrlsiAAvNGPrsvVvSGdaeaieallaeLeaqGirarrLkVsHAFHSplMepmldeleevla.......gitpraPriPliSnvTGew..ltgeealdpaYWarhlRePVrFadgletLlaelGct..vFlEvGPhpvL 280\n",
      "    AV+GHS GE++ A +AG  S   A r+   RG   ++ ++  +GaMla   s ee++e  +   ++gr+++AA N+P+sv +SGda+ai++l   Le++  +ar LkV+ A+HS++M p++d+++++l+       +    a+ +P +S+v+ e   + +    ++ YW ++l +PV F+ +++++    + +  + +EvG hp+L\n",
      "651 AVVGHSSGEIACAFAAGLISASLAIRIAYLRGVVSAGGARgtPGAMLAAGMSFEEAQEICELdaFEGRICVAASNSPDSVTFSGDANAIDHLKGMLEDESTFARLLKVDTAYHSHHMLPCADPYMQALEecgcavaDAGSPAGSVPWYSSVDAENrqMAA-RDVTAKYWKDNLVSPVLFSHAVQRAVVT-HKAldIGIEVGCHPAL 854\n",
      "    PKS-AT.tcoffee\n",
      "\n",
      "    sp|Q54FI3|STLB_DICDI\n",
      "  1 lFpGQGsQyaGMGreLYetePVFRqalDrCaaaLrphLgfsLlevLfgdegqeeaaaslLdqTryaQPALFAvEYALArLW.rSWGvePdAVlGHSvGEyvAAc 103\n",
      "    +F+GQG Q+  M  +LYe+  +F   +      ++   g+s+++ L+++ g   +  +l+++T  aQP ++Av+Y+L +L   + G+e   VlGHS+GE+ AA+\n",
      "625 IFSGQGQQWNKMIFDLYENNKTFKNEMNNFSKQFEMISGWSIIDKLYNSGG--GGNEELINETWLAQPSIVAVQYSLIKLFsKDIGIEGSIVLGHSLGELMAAY 726\n",
      "    PKS-AT.tcoffee\n",
      "\n",
      "    sp|Q54FI3|STLB_DICDI\n",
      "142 evrelLap..yggrlsiAAvNGPrsvVvSGdaeaieallaeLeaqG...irarrLkVsHAFHSplMepmldel 209\n",
      "    e+++l+ +  + gr+ i   N  +s+ +SGd e+ ++     ++q+   + ++ + +  AFHS++M+ + de+\n",
      "766 EIEQLISQlgFNGRIVICGNNTMKSCTISGDNESMNQFTKLISSQQygsVVHKEVRTNSAFHSHQMDIIKDEF 838\n",
      "    PKS-AT.tcoffee\n",
      "\n",
      "    sp|Q54FI3|STLB_DICDI\n",
      "239 aldpaYWarhlRePVrFadgletLlaelGct..vFlEvGPhpvLtalarrtlgesagtngadaawlaSL 305\n",
      "      +p+YW +++Re V F +++e+ l+  +    +F+E+  hp+L  ++ + l+ s+   +++++ l++L\n",
      "880 LSSPNYWWKNIRESVLFKESIEQILQN-HQQslTFIEITCHPILNYFLSQLLKSSS---KSNTLLLSTL 944\n",
      "    PKS-AT.tcoffee\n",
      "\n"
     ]
    }
   ],
   "source": [
    "for i, hit in enumerate(hits):\n",
    "    for domain in hit.domains:\n",
    "        ali = domain.alignment\n",
    "        print(\" \"*3, ali.target_name.decode())\n",
    "        print(\"{:3}\".format(ali.hmm_from), ali.hmm_sequence, \"{:3}\".format(ali.hmm_to))\n",
    "        print(\" \"*3, ali.identity_sequence)\n",
    "        print(\"{:3}\".format(ali.target_from), ali.target_sequence, \"{:3}\".format(ali.target_to))\n",
    "        print(\" \"*3, ali.hmm_name.decode())\n",
    "        print()"
   ]
  },
  {
   "cell_type": "code",
   "execution_count": 6,
   "metadata": {},
   "outputs": [
    {
     "data": {
      "text/plain": [
       "<Figure size 432x288 with 0 Axes>"
      ]
     },
     "metadata": {},
     "output_type": "display_data"
    },
    {
     "data": {
      "image/png": "[encoded data removed]",
      "text/plain": [
       "<Figure size 1152x576 with 5 Axes>"
      ]
     },
     "metadata": {},
     "output_type": "display_data"
    }
   ],
   "source": [
    "from dna_features_viewer import GraphicFeature, GraphicRecord\n",
    "import matplotlib.pyplot as plt\n",
    "\n",
    "plt.figure(1)\n",
    "fig, axes = plt.subplots(nrows=len(hits), figsize=(16, 8), sharex=True)\n",
    "\n",
    "seq_index = { seq.name:seq for seq in sequences }\n",
    "for ax, hit in zip(axes, hits):\n",
    "    \n",
    "    features = [\n",
    "        GraphicFeature(start=d.alignment.target_from-1, end=d.alignment.target_to)\n",
    "        for d in hit.domains\n",
    "    ]\n",
    "        \n",
    "    length = len(seq_index[hit.name])\n",
    "    desc = seq_index[hit.name].description.decode()\n",
    "    \n",
    "    record = GraphicRecord(sequence_length=length, features=features)\n",
    "    record.plot(ax=ax)\n",
    "    ax.set_title(desc)"
   ]
  },
  {
   "cell_type": "markdown",
   "metadata": {},
   "source": [
    "## Checking individual positions for catalytic activity"
   ]
  },
  {
   "cell_type": "code",
   "execution_count": 7,
   "metadata": {},
   "outputs": [],
   "source": [
    "def iter_target_match(alignment):\n",
    "    position = alignment.hmm_from\n",
    "    for hmm_letter, amino_acid in zip(alignment.hmm_sequence, alignment.target_sequence):\n",
    "        if hmm_letter != \".\":\n",
    "            yield position, amino_acid      \n",
    "            position += 1"
   ]
  },
  {
   "cell_type": "code",
   "execution_count": 8,
   "metadata": {},
   "outputs": [
    {
     "name": "stdout",
     "output_type": "stream",
     "text": [
      "In sequence 'sp|Q9ZGI5|PIKA1_STRVZ':\n",
      "- Found PKSI-AT domain at positions  635 to  925\n",
      "  -> Methylmalonyl-CoA specific\n",
      "- Found PKSI-AT domain at positions 1651 to 1927\n",
      "  -> Methylmalonyl-CoA specific\n",
      "- Found PKSI-AT domain at positions 3181 to 3475\n",
      "  -> Malonyl-CoA specific\n",
      "\n",
      "In sequence 'sp|Q9ZGI2|PIKA4_STRVZ':\n",
      "- Found PKSI-AT domain at positions  563 to  837\n",
      "  -> Methylmalonyl-CoA specific\n",
      "\n",
      "In sequence 'sp|A0A089QRB9|MSL3_MYCTU':\n",
      "- Found PKSI-AT domain at positions  540 to  834\n",
      "  -> Substrate specificity unknown\n",
      "\n",
      "In sequence 'sp|Q9Y8A5|LOVB_ASPTE':\n",
      "- Found PKSI-AT domain at positions  562 to  585\n",
      "  -> Domain likely too short\n",
      "- Found PKSI-AT domain at positions  651 to  854\n",
      "  -> Neither malonyl-CoA nor methylmalonyl-CoA specific\n",
      "\n",
      "In sequence 'sp|Q54FI3|STLB_DICDI':\n",
      "- Found PKSI-AT domain at positions  625 to  726\n",
      "  -> Domain likely too short\n",
      "- Found PKSI-AT domain at positions  766 to  838\n",
      "  -> Domain likely too short\n",
      "- Found PKSI-AT domain at positions  880 to  944\n",
      "  -> Domain likely too short\n",
      "\n"
     ]
    }
   ],
   "source": [
    "POSITIONS   = [ 93,  94,  95, 120, 196, 198, 199, 227, 244, 245]\n",
    "EXPECTED    = ['G', 'H', 'S', 'R', 'A', 'H', 'S', 'S', 'Y', 'W']\n",
    "SPECIFICITY = [195, 197]\n",
    "\n",
    "\n",
    "for hit in hits:\n",
    "    print(\"In sequence {!r}:\".format(hit.name.decode()))\n",
    "    for domain in hit.domains:       \n",
    "        aligned = dict(iter_target_match(domain.alignment))\n",
    "        \n",
    "        print(\"- Found PKSI-AT domain at positions {:4} to {:4}\".format(domain.ali_from, domain.ali_to))        \n",
    "        try:\n",
    "            signature = [ aligned[x] for x in POSITIONS ]\n",
    "            spec = [ aligned[x] for x in SPECIFICITY ] \n",
    "        except KeyError:\n",
    "            print(\"  -> Domain likely too short\")\n",
    "            continue\n",
    "        if signature != EXPECTED:\n",
    "            print(\"  -> Substrate specificity unknown\")\n",
    "        elif spec == [\"H\", \"F\"]:\n",
    "            print(\"  -> Malonyl-CoA specific\")\n",
    "        elif spec == [\"Y\", \"S\"]:\n",
    "            print(\"  -> Methylmalonyl-CoA specific\")\n",
    "        else:\n",
    "            print(\"  -> Neither malonyl-CoA nor methylmalonyl-CoA specific\")\n",
    "    \n",
    "    print()\n",
    "            \n",
    "            "
   ]
  },
  {
   "cell_type": "code",
   "execution_count": null,
   "metadata": {},
   "outputs": [],
   "source": []
  },
  {
   "cell_type": "code",
   "execution_count": null,
   "metadata": {},
   "outputs": [],
   "source": []
  }
 ],
 "metadata": {
  "kernelspec": {
   "display_name": "Python 3",
   "language": "python",
   "name": "python3"
  },
  "language_info": {
   "codemirror_mode": {
    "name": "ipython",
    "version": 3
   },
   "file_extension": ".py",
   "mimetype": "text/x-python",
   "name": "python",
   "nbconvert_exporter": "python",
   "pygments_lexer": "ipython3",
   "version": "3.8.6"
  }
 },
 "nbformat": 4,
 "nbformat_minor": 4
}
